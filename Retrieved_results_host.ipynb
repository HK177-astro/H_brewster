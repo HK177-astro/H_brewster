{
 "cells": [
  {
   "cell_type": "code",
   "execution_count": 1,
   "metadata": {},
   "outputs": [],
   "source": [
    "import matplotlib as mpl\n",
    "import matplotlib.pyplot as plt\n",
    "import matplotlib.image as mgimg\n",
    "import matplotlib.colors as colors\n",
    "import scipy as sp\n",
    "import numpy as np\n",
    "import nestkit_modified as nestkit\n",
    "#from cornerhk import corner\n",
    "import pickle as pickle\n",
    "from IPython.display import display\n",
    "import forwardmodel\n",
    "import ciamod\n",
    "import TPmod\n",
    "import cloudnest\n",
    "#import band\n",
    "import brewtools\n",
    "import settings\n",
    "from pymultinest.analyse import Analyzer\n",
    "from astropy.convolution import convolve, convolve_fft\n",
    "from astropy.convolution import Gaussian1DKernel\n",
    "from scipy.io.idl import readsav\n",
    "from scipy import interpolate\n",
    "from scipy.interpolate import interp1d\n",
    "from scipy.interpolate import InterpolatedUnivariateSpline\n",
    "from bensconv import conv_non_uniform_R"
   ]
  },
  {
   "cell_type": "code",
   "execution_count": 2,
   "outputs": [],
   "source": [
    "import matplotlib as mpl\n",
    "#import smplotlib\n",
    "from matplotlib import colors\n",
    "from matplotlib.ticker import AutoMinorLocator, ScalarFormatter, FuncFormatter, LogLocator, MultipleLocator\n",
    "import matplotlib.lines as mlines\n",
    "\n",
    "from tqdm import tqdm\n",
    "from scipy import integrate, constants"
   ],
   "metadata": {
    "collapsed": false
   }
  },
  {
   "cell_type": "code",
   "execution_count": 3,
   "outputs": [],
   "source": [
    "import warnings\n",
    "warnings.filterwarnings('ignore')"
   ],
   "metadata": {
    "collapsed": false
   }
  },
  {
   "cell_type": "code",
   "execution_count": 4,
   "outputs": [],
   "source": [
    "object_name = \"W0359\""
   ],
   "metadata": {
    "collapsed": false
   }
  },
  {
   "cell_type": "code",
   "execution_count": 5,
   "metadata": {},
   "outputs": [],
   "source": [
    "runname =\"W0359_5_knots\"\n",
    "\n",
    "#argfile = \"/Users/harshil/PycharmProjects/Brewster/Retrieved_results/Nested_sampling_files/W0359/\"+runname+\"_runargs.pic\"\n",
    "argfile = \"/Users/harshil/PycharmProjects/Brewster/Retrieved_results/Nested_sampling_files/W0359/WO_photometry/\"+runname+\"_runargs.pic\"\n",
    "\n",
    "runargs = brewtools.pickle_load(argfile)\n",
    "\n",
    "gases_myP,chemeq,dist,dist_err,cloudtype,do_clouds,gasnum,gaslist,cloudnum,inlinetemps,coarsePress,press,inwavenum,linelist,cia,ciatemps,use_disort,fwhm,obspec,proftype,do_fudge, prof,do_bff,bff_raw,ceTgrid,metscale,coscale, wavelength_cutoff, sf, sf_err = runargs\n",
    "\n",
    "ndim,pnames = nestkit.countdims(runargs, plist=True)"
   ]
  },
  {
   "cell_type": "code",
   "execution_count": 6,
   "outputs": [
    {
     "name": "stdout",
     "output_type": "stream",
     "text": [
      "  analysing data from /Users/harshil/PycharmProjects/Brewster/Retrieved_results/Nested_sampling_files/W0359/WO_photometry/W0359_5_knots.txt\n"
     ]
    }
   ],
   "source": [
    "#a = Analyzer(ndim, outputfiles_basename = \"/Users/harshil/PycharmProjects/Brewster/Retrieved_results/Nested_sampling_files/W0359/\"+runname)\n",
    "a = Analyzer(ndim, outputfiles_basename = \"/Users/harshil/PycharmProjects/Brewster/Retrieved_results/Nested_sampling_files/W0359/WO_photometry/\"+runname)\n",
    "\n",
    "\n",
    "stats = a.get_stats()\n",
    "bestfit_params = a.get_best_fit()\n",
    "#print(bestfit_params)\n",
    "\n",
    "#theta_max = np.array(bestfit_params['parameters'])\n",
    "#max_like = bestfit_params['log_likelihood']\n",
    "\n",
    "tmp = a.get_equal_weighted_posterior()\n",
    "samples = tmp[:,:(tmp.shape[1]-1)]\n",
    "\n",
    "Tsamples = samples[:,ndim-5:]\n",
    "nsamps = Tsamples.shape[0]\n",
    "nlayers = len(press)\n",
    "Tprofs = np.empty([nlayers,Tsamples.shape[0]])\n",
    "for i in range(0,nsamps):\n",
    "    Tprofs[:,i] = TPmod.set_prof(1,coarsePress,press,Tsamples[i,:])\n",
    "\n",
    "Tlays = np.empty([nlayers,5])\n",
    "for i in range(0,nlayers):\n",
    "    junk = Tprofs[i,:]\n",
    "    junk2 = np.percentile(junk, [2.4,16, 50, 84,97.6],axis=0)\n",
    "    junk3 = np.array(junk2)\n",
    "    Tlays[i,:] = junk3[:]\n",
    "\n",
    " # get the cloud stuff\n",
    "cloudsamples = samples[:,ndim-9:ndim-5]\n",
    "\n",
    "cloud_Top = np.percentile(cloudsamples[:, 0], [16, 50, 84])\n",
    "cloud_height = np.percentile(cloudsamples[:, 1], [16, 50, 84])"
   ],
   "metadata": {
    "collapsed": false
   }
  },
  {
   "cell_type": "code",
   "execution_count": 16,
   "outputs": [],
   "source": [
    "#np.savetxt('/Users/harshil/PycharmProjects/Brewster/Retrieved_results/Retrieved_posterior_samples/'+object_name+'_samples.txt', np.c_[samples])"
   ],
   "metadata": {
    "collapsed": false
   }
  },
  {
   "cell_type": "code",
   "execution_count": 17,
   "outputs": [],
   "source": [
    "#np.savetxt('/Users/harshil/PycharmProjects/Brewster/Retrieved_results/Retrieved_thermal_profile/'+object_name+'_thermal_profile.txt', np.c_[Tlays])"
   ],
   "metadata": {
    "collapsed": false
   }
  },
  {
   "cell_type": "code",
   "execution_count": 7,
   "metadata": {},
   "outputs": [],
   "source": [
    "np.savetxt('/Users/harshil/PycharmProjects/Brewster/Retrieved_results/Retrieved_posterior_samples/'+object_name+'_samples_wo_photometry.txt', np.c_[samples])\n",
    "np.savetxt('/Users/harshil/PycharmProjects/Brewster/Retrieved_results/Retrieved_thermal_profile/'+object_name+'_thermal_profile_wo_photometry.txt', np.c_[Tlays])"
   ]
  },
  {
   "cell_type": "code",
   "execution_count": null,
   "outputs": [],
   "source": [
    "#np.savetxt(runname+'_VMRs.dat', np.c_[gasVMR[:,0],gasVMR[:,1],gasVMR[:,2]])"
   ],
   "metadata": {
    "collapsed": false
   }
  },
  {
   "cell_type": "code",
   "execution_count": 8,
   "metadata": {},
   "outputs": [],
   "source": [
    "# get diagnostics along with the spectrum\n",
    "gnostics = 0\n",
    "#shiftspec, photspec, tauspec,cfunc = nestkit.modelspec(theta_max,runargs,gnostics)"
   ]
  },
  {
   "cell_type": "code",
   "execution_count": 62,
   "outputs": [],
   "source": [
    "#topspec = brewtools.proc_spec(shiftspec,theta_max,fwhm,chemeq,gasnum,obspec)"
   ],
   "metadata": {
    "collapsed": false
   }
  },
  {
   "cell_type": "code",
   "execution_count": null,
   "outputs": [],
   "source": [
    "\"\"\"topspec = brewtools.proc_spec(shiftspec,theta_max,fwhm,chemeq,gasnum,obspec)\n",
    "#print(topspec.shape)\n",
    "pltspec = np.zeros((500,obspec[0,:].size))\n",
    "\n",
    "samp= np.empty(ndim)\n",
    "sid = np.zeros(500)\n",
    "for i in range (0,500):\n",
    "    sid[i]= np.random.randint(0,high = len(samples))\n",
    "    samp = samples[int(sid[i]),:]\n",
    "    shiftspec, photspec, tauspec,cfunc = nestkit.modelspec(samp,runargs,gnostics)\n",
    "    pltspec[i,:] = brewtools.proc_spec(shiftspec,samp,fwhm,chemeq,gasnum,obspec)\n",
    "\n",
    "specdist = np.empty([obspec[0].size,5])\n",
    "for i in range(0,obspec[0].size):\n",
    "    junk = pltspec[:,i]\n",
    "    junk2 = np.percentile(junk, [2.4,16, 50, 84,97.6],axis=0)\n",
    "    junk3 = np.array(junk2)\n",
    "    specdist[i,:] = junk3[:]\n",
    "\"\"\""
   ],
   "metadata": {
    "collapsed": false
   }
  },
  {
   "cell_type": "code",
   "execution_count": 9,
   "outputs": [],
   "source": [
    "def proc_spec(shiftspec,theta,fwhm,chemeq,gasnum,obspec):\n",
    "    import numpy as np\n",
    "    import scipy as sp\n",
    "    from bensconv import conv_non_uniform_R\n",
    "\n",
    "    if chemeq == 0:\n",
    "        if (gasnum[gasnum.size-1] == 21):\n",
    "            ng = gasnum.size - 1\n",
    "        elif (gasnum[gasnum.size-1] == 23):\n",
    "            ng = gasnum.size -2\n",
    "        else:\n",
    "            ng = gasnum.size\n",
    "            invmr = theta[0:ng]\n",
    "\n",
    "    else:\n",
    "        ng = 2\n",
    "\n",
    "    modspec = np.array([shiftspec[0,::-1],shiftspec[1,::-1]])\n",
    "\n",
    "     # Modified by Harshil\n",
    "    if (fwhm == 999):\n",
    "        sf_NIRSpec = theta[ng + 4]\n",
    "        sf_MIRI = theta[ng + 5]\n",
    "\n",
    "        mr_NIRSpec = np.where(modspec[0, :] < wavelength_cutoff)[0]\n",
    "        or_NIRSpec = np.where(obspec[0, :] < wavelength_cutoff)[0]\n",
    "\n",
    "        mr_MIRI = np.where(np.logical_and(modspec[0, :] > wavelength_cutoff, modspec[0, :] < 13.0))[0]\n",
    "        or_MIRI = np.where(np.logical_and(obspec[0, :] > wavelength_cutoff, obspec[0, :] < 13.0))[0]\n",
    "\n",
    "        mr_photometry = np.where(modspec[0, :] > 13)[0]\n",
    "        or_photometry = np.where(obspec[0, :] > 13)[0]\n",
    "\n",
    "        R = obspec[-1, :]\n",
    "\n",
    "        NIRSpec = sf_NIRSpec * conv_non_uniform_R(obspec[:, or_NIRSpec], modspec[:, mr_NIRSpec], R[or_NIRSpec])\n",
    "        MIRI = sf_MIRI * conv_non_uniform_R(obspec[:, or_MIRI], modspec[:, mr_MIRI], R[or_MIRI])\n",
    "        photometry = conv_non_uniform_R(obspec[:, or_photometry], modspec[:, mr_photometry], R[or_photometry])\n",
    "\n",
    "        outspec = np.array(np.concatenate((NIRSpec,MIRI,photometry),axis=0))\n",
    "        \"\"\"\n",
    "\n",
    "    if (fwhm == 999):\n",
    "        # this is a non-uniform resolving power R.\n",
    "        R = obspec[-1, :]\n",
    "        outspec = conv_non_uniform_R(obspec,modspec, R)\"\"\"\n",
    "\n",
    "    return outspec"
   ],
   "metadata": {
    "collapsed": false
   }
  },
  {
   "cell_type": "code",
   "execution_count": 10,
   "outputs": [
    {
     "name": "stderr",
     "output_type": "stream",
     "text": [
      "100%|██████████| 5230/5230 [2:14:35<00:00,  1.54s/it]  \n"
     ]
    }
   ],
   "source": [
    "#topspec = brewtools.proc_spec(shiftspec, theta_max, fwhm, chemeq, gasnum, obspec)\n",
    "#print(topspec.shape)\n",
    "pltspec = np.zeros((samples[:, 0].size, obspec[0, :].size))\n",
    "\n",
    "for i in tqdm(range(0, samples[:, 0].size)):\n",
    "    samp = samples[i, :]\n",
    "    shiftspec, photspec, tauspec, cfunc = nestkit.modelspec(samp, runargs, gnostics)\n",
    "    pltspec[i, :] = proc_spec(shiftspec, samp, fwhm, chemeq, gasnum, obspec)"
   ],
   "metadata": {
    "collapsed": false
   }
  },
  {
   "cell_type": "code",
   "execution_count": 11,
   "outputs": [
    {
     "name": "stderr",
     "output_type": "stream",
     "text": [
      "100%|██████████| 580/580 [00:00<00:00, 4693.84it/s]\n"
     ]
    }
   ],
   "source": [
    "specdist = np.empty([obspec[0].size, 5])\n",
    "for i in tqdm(range(0, obspec[0].size)):\n",
    "    junk = pltspec[:, i]\n",
    "    junk2 = np.percentile(junk, [2.4, 16, 50, 84, 97.6], axis=0)\n",
    "    junk3 = np.array(junk2)\n",
    "    specdist[i, :] = junk3[:]"
   ],
   "metadata": {
    "collapsed": false
   }
  },
  {
   "cell_type": "code",
   "execution_count": 12,
   "outputs": [],
   "source": [
    "np.savetxt(\"/Users/harshil/PycharmProjects/Brewster/Retrieved_results/Retrieved_model_spectrum/0359_model_spectrum_wo_photometry.txt\", [specdist[:,2], specdist[:,1],specdist[:,3],specdist[:,0],specdist[:,4]])"
   ],
   "metadata": {
    "collapsed": false
   }
  },
  {
   "cell_type": "code",
   "execution_count": null,
   "outputs": [],
   "source": [],
   "metadata": {
    "collapsed": false
   }
  }
 ],
 "metadata": {
  "kernelspec": {
   "display_name": "Python 3 (ipykernel)",
   "language": "python",
   "name": "python3"
  },
  "language_info": {
   "codemirror_mode": {
    "name": "ipython",
    "version": 3
   },
   "file_extension": ".py",
   "mimetype": "text/x-python",
   "name": "python",
   "nbconvert_exporter": "python",
   "pygments_lexer": "ipython3",
   "version": "3.8.8"
  }
 },
 "nbformat": 4,
 "nbformat_minor": 4
}
